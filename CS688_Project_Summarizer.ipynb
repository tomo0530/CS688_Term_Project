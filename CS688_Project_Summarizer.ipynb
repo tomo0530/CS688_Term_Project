{
  "nbformat": 4,
  "nbformat_minor": 0,
  "metadata": {
    "colab": {
      "provenance": [],
      "authorship_tag": "ABX9TyNk7mxGeoxbj0KYvYEgK+6b",
      "include_colab_link": true
    },
    "kernelspec": {
      "name": "python3",
      "display_name": "Python 3"
    },
    "language_info": {
      "name": "python"
    },
    "widgets": {
      "application/vnd.jupyter.widget-state+json": {
        "b6b1dd086a204035b0d0df7d18d4fddf": {
          "model_module": "@jupyter-widgets/controls",
          "model_name": "HBoxModel",
          "model_module_version": "1.5.0",
          "state": {
            "_dom_classes": [],
            "_model_module": "@jupyter-widgets/controls",
            "_model_module_version": "1.5.0",
            "_model_name": "HBoxModel",
            "_view_count": null,
            "_view_module": "@jupyter-widgets/controls",
            "_view_module_version": "1.5.0",
            "_view_name": "HBoxView",
            "box_style": "",
            "children": [
              "IPY_MODEL_5b9f8ce5fc7c4bdaab068bede6e5b39b",
              "IPY_MODEL_d1eacc328e7847d6bf627a7db95028ca",
              "IPY_MODEL_c7eb07c3b4a94608ae22bf3baf5a31fd"
            ],
            "layout": "IPY_MODEL_2db9b37e9c89489da5abec59cf9d25c2"
          }
        },
        "5b9f8ce5fc7c4bdaab068bede6e5b39b": {
          "model_module": "@jupyter-widgets/controls",
          "model_name": "HTMLModel",
          "model_module_version": "1.5.0",
          "state": {
            "_dom_classes": [],
            "_model_module": "@jupyter-widgets/controls",
            "_model_module_version": "1.5.0",
            "_model_name": "HTMLModel",
            "_view_count": null,
            "_view_module": "@jupyter-widgets/controls",
            "_view_module_version": "1.5.0",
            "_view_name": "HTMLView",
            "description": "",
            "description_tooltip": null,
            "layout": "IPY_MODEL_17f031bdbf1c4f028c686f711281c23a",
            "placeholder": "​",
            "style": "IPY_MODEL_e055068b1b9144698eeca06140b70c43",
            "value": "Downloading: 100%"
          }
        },
        "d1eacc328e7847d6bf627a7db95028ca": {
          "model_module": "@jupyter-widgets/controls",
          "model_name": "FloatProgressModel",
          "model_module_version": "1.5.0",
          "state": {
            "_dom_classes": [],
            "_model_module": "@jupyter-widgets/controls",
            "_model_module_version": "1.5.0",
            "_model_name": "FloatProgressModel",
            "_view_count": null,
            "_view_module": "@jupyter-widgets/controls",
            "_view_module_version": "1.5.0",
            "_view_name": "ProgressView",
            "bar_style": "success",
            "description": "",
            "description_tooltip": null,
            "layout": "IPY_MODEL_011e86ccfebe489a8cd93a999d16a89c",
            "max": 1199,
            "min": 0,
            "orientation": "horizontal",
            "style": "IPY_MODEL_5519928dfee34e57a99ad661b964c1e0",
            "value": 1199
          }
        },
        "c7eb07c3b4a94608ae22bf3baf5a31fd": {
          "model_module": "@jupyter-widgets/controls",
          "model_name": "HTMLModel",
          "model_module_version": "1.5.0",
          "state": {
            "_dom_classes": [],
            "_model_module": "@jupyter-widgets/controls",
            "_model_module_version": "1.5.0",
            "_model_name": "HTMLModel",
            "_view_count": null,
            "_view_module": "@jupyter-widgets/controls",
            "_view_module_version": "1.5.0",
            "_view_name": "HTMLView",
            "description": "",
            "description_tooltip": null,
            "layout": "IPY_MODEL_24ec3082570b4843a154957e530fe7b0",
            "placeholder": "​",
            "style": "IPY_MODEL_71901148bedc4b50841b91352cfe4922",
            "value": " 1.20k/1.20k [00:00&lt;00:00, 15.8kB/s]"
          }
        },
        "2db9b37e9c89489da5abec59cf9d25c2": {
          "model_module": "@jupyter-widgets/base",
          "model_name": "LayoutModel",
          "model_module_version": "1.2.0",
          "state": {
            "_model_module": "@jupyter-widgets/base",
            "_model_module_version": "1.2.0",
            "_model_name": "LayoutModel",
            "_view_count": null,
            "_view_module": "@jupyter-widgets/base",
            "_view_module_version": "1.2.0",
            "_view_name": "LayoutView",
            "align_content": null,
            "align_items": null,
            "align_self": null,
            "border": null,
            "bottom": null,
            "display": null,
            "flex": null,
            "flex_flow": null,
            "grid_area": null,
            "grid_auto_columns": null,
            "grid_auto_flow": null,
            "grid_auto_rows": null,
            "grid_column": null,
            "grid_gap": null,
            "grid_row": null,
            "grid_template_areas": null,
            "grid_template_columns": null,
            "grid_template_rows": null,
            "height": null,
            "justify_content": null,
            "justify_items": null,
            "left": null,
            "margin": null,
            "max_height": null,
            "max_width": null,
            "min_height": null,
            "min_width": null,
            "object_fit": null,
            "object_position": null,
            "order": null,
            "overflow": null,
            "overflow_x": null,
            "overflow_y": null,
            "padding": null,
            "right": null,
            "top": null,
            "visibility": null,
            "width": null
          }
        },
        "17f031bdbf1c4f028c686f711281c23a": {
          "model_module": "@jupyter-widgets/base",
          "model_name": "LayoutModel",
          "model_module_version": "1.2.0",
          "state": {
            "_model_module": "@jupyter-widgets/base",
            "_model_module_version": "1.2.0",
            "_model_name": "LayoutModel",
            "_view_count": null,
            "_view_module": "@jupyter-widgets/base",
            "_view_module_version": "1.2.0",
            "_view_name": "LayoutView",
            "align_content": null,
            "align_items": null,
            "align_self": null,
            "border": null,
            "bottom": null,
            "display": null,
            "flex": null,
            "flex_flow": null,
            "grid_area": null,
            "grid_auto_columns": null,
            "grid_auto_flow": null,
            "grid_auto_rows": null,
            "grid_column": null,
            "grid_gap": null,
            "grid_row": null,
            "grid_template_areas": null,
            "grid_template_columns": null,
            "grid_template_rows": null,
            "height": null,
            "justify_content": null,
            "justify_items": null,
            "left": null,
            "margin": null,
            "max_height": null,
            "max_width": null,
            "min_height": null,
            "min_width": null,
            "object_fit": null,
            "object_position": null,
            "order": null,
            "overflow": null,
            "overflow_x": null,
            "overflow_y": null,
            "padding": null,
            "right": null,
            "top": null,
            "visibility": null,
            "width": null
          }
        },
        "e055068b1b9144698eeca06140b70c43": {
          "model_module": "@jupyter-widgets/controls",
          "model_name": "DescriptionStyleModel",
          "model_module_version": "1.5.0",
          "state": {
            "_model_module": "@jupyter-widgets/controls",
            "_model_module_version": "1.5.0",
            "_model_name": "DescriptionStyleModel",
            "_view_count": null,
            "_view_module": "@jupyter-widgets/base",
            "_view_module_version": "1.2.0",
            "_view_name": "StyleView",
            "description_width": ""
          }
        },
        "011e86ccfebe489a8cd93a999d16a89c": {
          "model_module": "@jupyter-widgets/base",
          "model_name": "LayoutModel",
          "model_module_version": "1.2.0",
          "state": {
            "_model_module": "@jupyter-widgets/base",
            "_model_module_version": "1.2.0",
            "_model_name": "LayoutModel",
            "_view_count": null,
            "_view_module": "@jupyter-widgets/base",
            "_view_module_version": "1.2.0",
            "_view_name": "LayoutView",
            "align_content": null,
            "align_items": null,
            "align_self": null,
            "border": null,
            "bottom": null,
            "display": null,
            "flex": null,
            "flex_flow": null,
            "grid_area": null,
            "grid_auto_columns": null,
            "grid_auto_flow": null,
            "grid_auto_rows": null,
            "grid_column": null,
            "grid_gap": null,
            "grid_row": null,
            "grid_template_areas": null,
            "grid_template_columns": null,
            "grid_template_rows": null,
            "height": null,
            "justify_content": null,
            "justify_items": null,
            "left": null,
            "margin": null,
            "max_height": null,
            "max_width": null,
            "min_height": null,
            "min_width": null,
            "object_fit": null,
            "object_position": null,
            "order": null,
            "overflow": null,
            "overflow_x": null,
            "overflow_y": null,
            "padding": null,
            "right": null,
            "top": null,
            "visibility": null,
            "width": null
          }
        },
        "5519928dfee34e57a99ad661b964c1e0": {
          "model_module": "@jupyter-widgets/controls",
          "model_name": "ProgressStyleModel",
          "model_module_version": "1.5.0",
          "state": {
            "_model_module": "@jupyter-widgets/controls",
            "_model_module_version": "1.5.0",
            "_model_name": "ProgressStyleModel",
            "_view_count": null,
            "_view_module": "@jupyter-widgets/base",
            "_view_module_version": "1.2.0",
            "_view_name": "StyleView",
            "bar_color": null,
            "description_width": ""
          }
        },
        "24ec3082570b4843a154957e530fe7b0": {
          "model_module": "@jupyter-widgets/base",
          "model_name": "LayoutModel",
          "model_module_version": "1.2.0",
          "state": {
            "_model_module": "@jupyter-widgets/base",
            "_model_module_version": "1.2.0",
            "_model_name": "LayoutModel",
            "_view_count": null,
            "_view_module": "@jupyter-widgets/base",
            "_view_module_version": "1.2.0",
            "_view_name": "LayoutView",
            "align_content": null,
            "align_items": null,
            "align_self": null,
            "border": null,
            "bottom": null,
            "display": null,
            "flex": null,
            "flex_flow": null,
            "grid_area": null,
            "grid_auto_columns": null,
            "grid_auto_flow": null,
            "grid_auto_rows": null,
            "grid_column": null,
            "grid_gap": null,
            "grid_row": null,
            "grid_template_areas": null,
            "grid_template_columns": null,
            "grid_template_rows": null,
            "height": null,
            "justify_content": null,
            "justify_items": null,
            "left": null,
            "margin": null,
            "max_height": null,
            "max_width": null,
            "min_height": null,
            "min_width": null,
            "object_fit": null,
            "object_position": null,
            "order": null,
            "overflow": null,
            "overflow_x": null,
            "overflow_y": null,
            "padding": null,
            "right": null,
            "top": null,
            "visibility": null,
            "width": null
          }
        },
        "71901148bedc4b50841b91352cfe4922": {
          "model_module": "@jupyter-widgets/controls",
          "model_name": "DescriptionStyleModel",
          "model_module_version": "1.5.0",
          "state": {
            "_model_module": "@jupyter-widgets/controls",
            "_model_module_version": "1.5.0",
            "_model_name": "DescriptionStyleModel",
            "_view_count": null,
            "_view_module": "@jupyter-widgets/base",
            "_view_module_version": "1.2.0",
            "_view_name": "StyleView",
            "description_width": ""
          }
        },
        "05844c5f1c2441f5827e15ed9f66b237": {
          "model_module": "@jupyter-widgets/controls",
          "model_name": "HBoxModel",
          "model_module_version": "1.5.0",
          "state": {
            "_dom_classes": [],
            "_model_module": "@jupyter-widgets/controls",
            "_model_module_version": "1.5.0",
            "_model_name": "HBoxModel",
            "_view_count": null,
            "_view_module": "@jupyter-widgets/controls",
            "_view_module_version": "1.5.0",
            "_view_name": "HBoxView",
            "box_style": "",
            "children": [
              "IPY_MODEL_38b959e744474ff191cdddb36bf10b25",
              "IPY_MODEL_bf46b44e474e4f519d0a3a622307b826",
              "IPY_MODEL_98101fef91d44adb8ab32c448cab6a12"
            ],
            "layout": "IPY_MODEL_b1ada77969484cd69bde47b4279e727a"
          }
        },
        "38b959e744474ff191cdddb36bf10b25": {
          "model_module": "@jupyter-widgets/controls",
          "model_name": "HTMLModel",
          "model_module_version": "1.5.0",
          "state": {
            "_dom_classes": [],
            "_model_module": "@jupyter-widgets/controls",
            "_model_module_version": "1.5.0",
            "_model_name": "HTMLModel",
            "_view_count": null,
            "_view_module": "@jupyter-widgets/controls",
            "_view_module_version": "1.5.0",
            "_view_name": "HTMLView",
            "description": "",
            "description_tooltip": null,
            "layout": "IPY_MODEL_eabe79cee08e4572bd3f46a58b2d1301",
            "placeholder": "​",
            "style": "IPY_MODEL_eb0efcca772f4948ab95b4f3f2c97509",
            "value": "Downloading: 100%"
          }
        },
        "bf46b44e474e4f519d0a3a622307b826": {
          "model_module": "@jupyter-widgets/controls",
          "model_name": "FloatProgressModel",
          "model_module_version": "1.5.0",
          "state": {
            "_dom_classes": [],
            "_model_module": "@jupyter-widgets/controls",
            "_model_module_version": "1.5.0",
            "_model_name": "FloatProgressModel",
            "_view_count": null,
            "_view_module": "@jupyter-widgets/controls",
            "_view_module_version": "1.5.0",
            "_view_name": "ProgressView",
            "bar_style": "success",
            "description": "",
            "description_tooltip": null,
            "layout": "IPY_MODEL_8d012cc88c654acb8bb77aa40ab7f24a",
            "max": 791656,
            "min": 0,
            "orientation": "horizontal",
            "style": "IPY_MODEL_1d927df68107411796884cedfa6d29e4",
            "value": 791656
          }
        },
        "98101fef91d44adb8ab32c448cab6a12": {
          "model_module": "@jupyter-widgets/controls",
          "model_name": "HTMLModel",
          "model_module_version": "1.5.0",
          "state": {
            "_dom_classes": [],
            "_model_module": "@jupyter-widgets/controls",
            "_model_module_version": "1.5.0",
            "_model_name": "HTMLModel",
            "_view_count": null,
            "_view_module": "@jupyter-widgets/controls",
            "_view_module_version": "1.5.0",
            "_view_name": "HTMLView",
            "description": "",
            "description_tooltip": null,
            "layout": "IPY_MODEL_7716bf94eeba4856b3055327bdde7f7f",
            "placeholder": "​",
            "style": "IPY_MODEL_ec359d0cf48e4ac3806076a92a1a71f9",
            "value": " 792k/792k [00:01&lt;00:00, 898kB/s]"
          }
        },
        "b1ada77969484cd69bde47b4279e727a": {
          "model_module": "@jupyter-widgets/base",
          "model_name": "LayoutModel",
          "model_module_version": "1.2.0",
          "state": {
            "_model_module": "@jupyter-widgets/base",
            "_model_module_version": "1.2.0",
            "_model_name": "LayoutModel",
            "_view_count": null,
            "_view_module": "@jupyter-widgets/base",
            "_view_module_version": "1.2.0",
            "_view_name": "LayoutView",
            "align_content": null,
            "align_items": null,
            "align_self": null,
            "border": null,
            "bottom": null,
            "display": null,
            "flex": null,
            "flex_flow": null,
            "grid_area": null,
            "grid_auto_columns": null,
            "grid_auto_flow": null,
            "grid_auto_rows": null,
            "grid_column": null,
            "grid_gap": null,
            "grid_row": null,
            "grid_template_areas": null,
            "grid_template_columns": null,
            "grid_template_rows": null,
            "height": null,
            "justify_content": null,
            "justify_items": null,
            "left": null,
            "margin": null,
            "max_height": null,
            "max_width": null,
            "min_height": null,
            "min_width": null,
            "object_fit": null,
            "object_position": null,
            "order": null,
            "overflow": null,
            "overflow_x": null,
            "overflow_y": null,
            "padding": null,
            "right": null,
            "top": null,
            "visibility": null,
            "width": null
          }
        },
        "eabe79cee08e4572bd3f46a58b2d1301": {
          "model_module": "@jupyter-widgets/base",
          "model_name": "LayoutModel",
          "model_module_version": "1.2.0",
          "state": {
            "_model_module": "@jupyter-widgets/base",
            "_model_module_version": "1.2.0",
            "_model_name": "LayoutModel",
            "_view_count": null,
            "_view_module": "@jupyter-widgets/base",
            "_view_module_version": "1.2.0",
            "_view_name": "LayoutView",
            "align_content": null,
            "align_items": null,
            "align_self": null,
            "border": null,
            "bottom": null,
            "display": null,
            "flex": null,
            "flex_flow": null,
            "grid_area": null,
            "grid_auto_columns": null,
            "grid_auto_flow": null,
            "grid_auto_rows": null,
            "grid_column": null,
            "grid_gap": null,
            "grid_row": null,
            "grid_template_areas": null,
            "grid_template_columns": null,
            "grid_template_rows": null,
            "height": null,
            "justify_content": null,
            "justify_items": null,
            "left": null,
            "margin": null,
            "max_height": null,
            "max_width": null,
            "min_height": null,
            "min_width": null,
            "object_fit": null,
            "object_position": null,
            "order": null,
            "overflow": null,
            "overflow_x": null,
            "overflow_y": null,
            "padding": null,
            "right": null,
            "top": null,
            "visibility": null,
            "width": null
          }
        },
        "eb0efcca772f4948ab95b4f3f2c97509": {
          "model_module": "@jupyter-widgets/controls",
          "model_name": "DescriptionStyleModel",
          "model_module_version": "1.5.0",
          "state": {
            "_model_module": "@jupyter-widgets/controls",
            "_model_module_version": "1.5.0",
            "_model_name": "DescriptionStyleModel",
            "_view_count": null,
            "_view_module": "@jupyter-widgets/base",
            "_view_module_version": "1.2.0",
            "_view_name": "StyleView",
            "description_width": ""
          }
        },
        "8d012cc88c654acb8bb77aa40ab7f24a": {
          "model_module": "@jupyter-widgets/base",
          "model_name": "LayoutModel",
          "model_module_version": "1.2.0",
          "state": {
            "_model_module": "@jupyter-widgets/base",
            "_model_module_version": "1.2.0",
            "_model_name": "LayoutModel",
            "_view_count": null,
            "_view_module": "@jupyter-widgets/base",
            "_view_module_version": "1.2.0",
            "_view_name": "LayoutView",
            "align_content": null,
            "align_items": null,
            "align_self": null,
            "border": null,
            "bottom": null,
            "display": null,
            "flex": null,
            "flex_flow": null,
            "grid_area": null,
            "grid_auto_columns": null,
            "grid_auto_flow": null,
            "grid_auto_rows": null,
            "grid_column": null,
            "grid_gap": null,
            "grid_row": null,
            "grid_template_areas": null,
            "grid_template_columns": null,
            "grid_template_rows": null,
            "height": null,
            "justify_content": null,
            "justify_items": null,
            "left": null,
            "margin": null,
            "max_height": null,
            "max_width": null,
            "min_height": null,
            "min_width": null,
            "object_fit": null,
            "object_position": null,
            "order": null,
            "overflow": null,
            "overflow_x": null,
            "overflow_y": null,
            "padding": null,
            "right": null,
            "top": null,
            "visibility": null,
            "width": null
          }
        },
        "1d927df68107411796884cedfa6d29e4": {
          "model_module": "@jupyter-widgets/controls",
          "model_name": "ProgressStyleModel",
          "model_module_version": "1.5.0",
          "state": {
            "_model_module": "@jupyter-widgets/controls",
            "_model_module_version": "1.5.0",
            "_model_name": "ProgressStyleModel",
            "_view_count": null,
            "_view_module": "@jupyter-widgets/base",
            "_view_module_version": "1.2.0",
            "_view_name": "StyleView",
            "bar_color": null,
            "description_width": ""
          }
        },
        "7716bf94eeba4856b3055327bdde7f7f": {
          "model_module": "@jupyter-widgets/base",
          "model_name": "LayoutModel",
          "model_module_version": "1.2.0",
          "state": {
            "_model_module": "@jupyter-widgets/base",
            "_model_module_version": "1.2.0",
            "_model_name": "LayoutModel",
            "_view_count": null,
            "_view_module": "@jupyter-widgets/base",
            "_view_module_version": "1.2.0",
            "_view_name": "LayoutView",
            "align_content": null,
            "align_items": null,
            "align_self": null,
            "border": null,
            "bottom": null,
            "display": null,
            "flex": null,
            "flex_flow": null,
            "grid_area": null,
            "grid_auto_columns": null,
            "grid_auto_flow": null,
            "grid_auto_rows": null,
            "grid_column": null,
            "grid_gap": null,
            "grid_row": null,
            "grid_template_areas": null,
            "grid_template_columns": null,
            "grid_template_rows": null,
            "height": null,
            "justify_content": null,
            "justify_items": null,
            "left": null,
            "margin": null,
            "max_height": null,
            "max_width": null,
            "min_height": null,
            "min_width": null,
            "object_fit": null,
            "object_position": null,
            "order": null,
            "overflow": null,
            "overflow_x": null,
            "overflow_y": null,
            "padding": null,
            "right": null,
            "top": null,
            "visibility": null,
            "width": null
          }
        },
        "ec359d0cf48e4ac3806076a92a1a71f9": {
          "model_module": "@jupyter-widgets/controls",
          "model_name": "DescriptionStyleModel",
          "model_module_version": "1.5.0",
          "state": {
            "_model_module": "@jupyter-widgets/controls",
            "_model_module_version": "1.5.0",
            "_model_name": "DescriptionStyleModel",
            "_view_count": null,
            "_view_module": "@jupyter-widgets/base",
            "_view_module_version": "1.2.0",
            "_view_name": "StyleView",
            "description_width": ""
          }
        },
        "10af38179ae94f8fb3ed9785fc6f7e88": {
          "model_module": "@jupyter-widgets/controls",
          "model_name": "HBoxModel",
          "model_module_version": "1.5.0",
          "state": {
            "_dom_classes": [],
            "_model_module": "@jupyter-widgets/controls",
            "_model_module_version": "1.5.0",
            "_model_name": "HBoxModel",
            "_view_count": null,
            "_view_module": "@jupyter-widgets/controls",
            "_view_module_version": "1.5.0",
            "_view_name": "HBoxView",
            "box_style": "",
            "children": [
              "IPY_MODEL_f3d42ccc6c11458ea214004cbfef5d23",
              "IPY_MODEL_1e07d821af944aecbbe50551bca0c9a6",
              "IPY_MODEL_dad17b99dd2b4739883be729a2ec5b0d"
            ],
            "layout": "IPY_MODEL_1931cb11df634ee89ef8e0e66fad6b90"
          }
        },
        "f3d42ccc6c11458ea214004cbfef5d23": {
          "model_module": "@jupyter-widgets/controls",
          "model_name": "HTMLModel",
          "model_module_version": "1.5.0",
          "state": {
            "_dom_classes": [],
            "_model_module": "@jupyter-widgets/controls",
            "_model_module_version": "1.5.0",
            "_model_name": "HTMLModel",
            "_view_count": null,
            "_view_module": "@jupyter-widgets/controls",
            "_view_module_version": "1.5.0",
            "_view_name": "HTMLView",
            "description": "",
            "description_tooltip": null,
            "layout": "IPY_MODEL_6a0002ac8f924e2c8db33340ce7a832e",
            "placeholder": "​",
            "style": "IPY_MODEL_d624335f82994d788159c05e119bb1b3",
            "value": "Downloading: 100%"
          }
        },
        "1e07d821af944aecbbe50551bca0c9a6": {
          "model_module": "@jupyter-widgets/controls",
          "model_name": "FloatProgressModel",
          "model_module_version": "1.5.0",
          "state": {
            "_dom_classes": [],
            "_model_module": "@jupyter-widgets/controls",
            "_model_module_version": "1.5.0",
            "_model_name": "FloatProgressModel",
            "_view_count": null,
            "_view_module": "@jupyter-widgets/controls",
            "_view_module_version": "1.5.0",
            "_view_name": "ProgressView",
            "bar_style": "success",
            "description": "",
            "description_tooltip": null,
            "layout": "IPY_MODEL_b87125976aa949fdb8c1a01b26f76628",
            "max": 1389353,
            "min": 0,
            "orientation": "horizontal",
            "style": "IPY_MODEL_8e8dc01429e34281a60739d6aceeb72f",
            "value": 1389353
          }
        },
        "dad17b99dd2b4739883be729a2ec5b0d": {
          "model_module": "@jupyter-widgets/controls",
          "model_name": "HTMLModel",
          "model_module_version": "1.5.0",
          "state": {
            "_dom_classes": [],
            "_model_module": "@jupyter-widgets/controls",
            "_model_module_version": "1.5.0",
            "_model_name": "HTMLModel",
            "_view_count": null,
            "_view_module": "@jupyter-widgets/controls",
            "_view_module_version": "1.5.0",
            "_view_name": "HTMLView",
            "description": "",
            "description_tooltip": null,
            "layout": "IPY_MODEL_b8ee0557a6b249228ce040fd86e40a65",
            "placeholder": "​",
            "style": "IPY_MODEL_49137f06b0124d9cb12a876fe3372fdf",
            "value": " 1.39M/1.39M [00:01&lt;00:00, 986kB/s]"
          }
        },
        "1931cb11df634ee89ef8e0e66fad6b90": {
          "model_module": "@jupyter-widgets/base",
          "model_name": "LayoutModel",
          "model_module_version": "1.2.0",
          "state": {
            "_model_module": "@jupyter-widgets/base",
            "_model_module_version": "1.2.0",
            "_model_name": "LayoutModel",
            "_view_count": null,
            "_view_module": "@jupyter-widgets/base",
            "_view_module_version": "1.2.0",
            "_view_name": "LayoutView",
            "align_content": null,
            "align_items": null,
            "align_self": null,
            "border": null,
            "bottom": null,
            "display": null,
            "flex": null,
            "flex_flow": null,
            "grid_area": null,
            "grid_auto_columns": null,
            "grid_auto_flow": null,
            "grid_auto_rows": null,
            "grid_column": null,
            "grid_gap": null,
            "grid_row": null,
            "grid_template_areas": null,
            "grid_template_columns": null,
            "grid_template_rows": null,
            "height": null,
            "justify_content": null,
            "justify_items": null,
            "left": null,
            "margin": null,
            "max_height": null,
            "max_width": null,
            "min_height": null,
            "min_width": null,
            "object_fit": null,
            "object_position": null,
            "order": null,
            "overflow": null,
            "overflow_x": null,
            "overflow_y": null,
            "padding": null,
            "right": null,
            "top": null,
            "visibility": null,
            "width": null
          }
        },
        "6a0002ac8f924e2c8db33340ce7a832e": {
          "model_module": "@jupyter-widgets/base",
          "model_name": "LayoutModel",
          "model_module_version": "1.2.0",
          "state": {
            "_model_module": "@jupyter-widgets/base",
            "_model_module_version": "1.2.0",
            "_model_name": "LayoutModel",
            "_view_count": null,
            "_view_module": "@jupyter-widgets/base",
            "_view_module_version": "1.2.0",
            "_view_name": "LayoutView",
            "align_content": null,
            "align_items": null,
            "align_self": null,
            "border": null,
            "bottom": null,
            "display": null,
            "flex": null,
            "flex_flow": null,
            "grid_area": null,
            "grid_auto_columns": null,
            "grid_auto_flow": null,
            "grid_auto_rows": null,
            "grid_column": null,
            "grid_gap": null,
            "grid_row": null,
            "grid_template_areas": null,
            "grid_template_columns": null,
            "grid_template_rows": null,
            "height": null,
            "justify_content": null,
            "justify_items": null,
            "left": null,
            "margin": null,
            "max_height": null,
            "max_width": null,
            "min_height": null,
            "min_width": null,
            "object_fit": null,
            "object_position": null,
            "order": null,
            "overflow": null,
            "overflow_x": null,
            "overflow_y": null,
            "padding": null,
            "right": null,
            "top": null,
            "visibility": null,
            "width": null
          }
        },
        "d624335f82994d788159c05e119bb1b3": {
          "model_module": "@jupyter-widgets/controls",
          "model_name": "DescriptionStyleModel",
          "model_module_version": "1.5.0",
          "state": {
            "_model_module": "@jupyter-widgets/controls",
            "_model_module_version": "1.5.0",
            "_model_name": "DescriptionStyleModel",
            "_view_count": null,
            "_view_module": "@jupyter-widgets/base",
            "_view_module_version": "1.2.0",
            "_view_name": "StyleView",
            "description_width": ""
          }
        },
        "b87125976aa949fdb8c1a01b26f76628": {
          "model_module": "@jupyter-widgets/base",
          "model_name": "LayoutModel",
          "model_module_version": "1.2.0",
          "state": {
            "_model_module": "@jupyter-widgets/base",
            "_model_module_version": "1.2.0",
            "_model_name": "LayoutModel",
            "_view_count": null,
            "_view_module": "@jupyter-widgets/base",
            "_view_module_version": "1.2.0",
            "_view_name": "LayoutView",
            "align_content": null,
            "align_items": null,
            "align_self": null,
            "border": null,
            "bottom": null,
            "display": null,
            "flex": null,
            "flex_flow": null,
            "grid_area": null,
            "grid_auto_columns": null,
            "grid_auto_flow": null,
            "grid_auto_rows": null,
            "grid_column": null,
            "grid_gap": null,
            "grid_row": null,
            "grid_template_areas": null,
            "grid_template_columns": null,
            "grid_template_rows": null,
            "height": null,
            "justify_content": null,
            "justify_items": null,
            "left": null,
            "margin": null,
            "max_height": null,
            "max_width": null,
            "min_height": null,
            "min_width": null,
            "object_fit": null,
            "object_position": null,
            "order": null,
            "overflow": null,
            "overflow_x": null,
            "overflow_y": null,
            "padding": null,
            "right": null,
            "top": null,
            "visibility": null,
            "width": null
          }
        },
        "8e8dc01429e34281a60739d6aceeb72f": {
          "model_module": "@jupyter-widgets/controls",
          "model_name": "ProgressStyleModel",
          "model_module_version": "1.5.0",
          "state": {
            "_model_module": "@jupyter-widgets/controls",
            "_model_module_version": "1.5.0",
            "_model_name": "ProgressStyleModel",
            "_view_count": null,
            "_view_module": "@jupyter-widgets/base",
            "_view_module_version": "1.2.0",
            "_view_name": "StyleView",
            "bar_color": null,
            "description_width": ""
          }
        },
        "b8ee0557a6b249228ce040fd86e40a65": {
          "model_module": "@jupyter-widgets/base",
          "model_name": "LayoutModel",
          "model_module_version": "1.2.0",
          "state": {
            "_model_module": "@jupyter-widgets/base",
            "_model_module_version": "1.2.0",
            "_model_name": "LayoutModel",
            "_view_count": null,
            "_view_module": "@jupyter-widgets/base",
            "_view_module_version": "1.2.0",
            "_view_name": "LayoutView",
            "align_content": null,
            "align_items": null,
            "align_self": null,
            "border": null,
            "bottom": null,
            "display": null,
            "flex": null,
            "flex_flow": null,
            "grid_area": null,
            "grid_auto_columns": null,
            "grid_auto_flow": null,
            "grid_auto_rows": null,
            "grid_column": null,
            "grid_gap": null,
            "grid_row": null,
            "grid_template_areas": null,
            "grid_template_columns": null,
            "grid_template_rows": null,
            "height": null,
            "justify_content": null,
            "justify_items": null,
            "left": null,
            "margin": null,
            "max_height": null,
            "max_width": null,
            "min_height": null,
            "min_width": null,
            "object_fit": null,
            "object_position": null,
            "order": null,
            "overflow": null,
            "overflow_x": null,
            "overflow_y": null,
            "padding": null,
            "right": null,
            "top": null,
            "visibility": null,
            "width": null
          }
        },
        "49137f06b0124d9cb12a876fe3372fdf": {
          "model_module": "@jupyter-widgets/controls",
          "model_name": "DescriptionStyleModel",
          "model_module_version": "1.5.0",
          "state": {
            "_model_module": "@jupyter-widgets/controls",
            "_model_module_version": "1.5.0",
            "_model_name": "DescriptionStyleModel",
            "_view_count": null,
            "_view_module": "@jupyter-widgets/base",
            "_view_module_version": "1.2.0",
            "_view_name": "StyleView",
            "description_width": ""
          }
        },
        "09172a816a4642ae8250e25b87d584ff": {
          "model_module": "@jupyter-widgets/controls",
          "model_name": "HBoxModel",
          "model_module_version": "1.5.0",
          "state": {
            "_dom_classes": [],
            "_model_module": "@jupyter-widgets/controls",
            "_model_module_version": "1.5.0",
            "_model_name": "HBoxModel",
            "_view_count": null,
            "_view_module": "@jupyter-widgets/controls",
            "_view_module_version": "1.5.0",
            "_view_name": "HBoxView",
            "box_style": "",
            "children": [
              "IPY_MODEL_b6c8ad7c7262469a9a12a0b974522f79",
              "IPY_MODEL_f6f52c750e664a8795971d9a4c666fae",
              "IPY_MODEL_6d9df80372c848d3850e70d644ba2be3"
            ],
            "layout": "IPY_MODEL_907babc81a4944c1ac77c26df400f1a9"
          }
        },
        "b6c8ad7c7262469a9a12a0b974522f79": {
          "model_module": "@jupyter-widgets/controls",
          "model_name": "HTMLModel",
          "model_module_version": "1.5.0",
          "state": {
            "_dom_classes": [],
            "_model_module": "@jupyter-widgets/controls",
            "_model_module_version": "1.5.0",
            "_model_name": "HTMLModel",
            "_view_count": null,
            "_view_module": "@jupyter-widgets/controls",
            "_view_module_version": "1.5.0",
            "_view_name": "HTMLView",
            "description": "",
            "description_tooltip": null,
            "layout": "IPY_MODEL_2a34db703ecd4420acf46532df4c7164",
            "placeholder": "​",
            "style": "IPY_MODEL_b4e3d93a1f2146e98cf9b81379131ef1",
            "value": "100%"
          }
        },
        "f6f52c750e664a8795971d9a4c666fae": {
          "model_module": "@jupyter-widgets/controls",
          "model_name": "FloatProgressModel",
          "model_module_version": "1.5.0",
          "state": {
            "_dom_classes": [],
            "_model_module": "@jupyter-widgets/controls",
            "_model_module_version": "1.5.0",
            "_model_name": "FloatProgressModel",
            "_view_count": null,
            "_view_module": "@jupyter-widgets/controls",
            "_view_module_version": "1.5.0",
            "_view_name": "ProgressView",
            "bar_style": "success",
            "description": "",
            "description_tooltip": null,
            "layout": "IPY_MODEL_d8f8beaa649042b9ad0865dfbc99fffa",
            "max": 100,
            "min": 0,
            "orientation": "horizontal",
            "style": "IPY_MODEL_03bfd08925ac42a19c0b0d545a861ba0",
            "value": 100
          }
        },
        "6d9df80372c848d3850e70d644ba2be3": {
          "model_module": "@jupyter-widgets/controls",
          "model_name": "HTMLModel",
          "model_module_version": "1.5.0",
          "state": {
            "_dom_classes": [],
            "_model_module": "@jupyter-widgets/controls",
            "_model_module_version": "1.5.0",
            "_model_name": "HTMLModel",
            "_view_count": null,
            "_view_module": "@jupyter-widgets/controls",
            "_view_module_version": "1.5.0",
            "_view_name": "HTMLView",
            "description": "",
            "description_tooltip": null,
            "layout": "IPY_MODEL_50ae05013b244e138b12234838555f8b",
            "placeholder": "​",
            "style": "IPY_MODEL_29c7cdef85fa46b8894ca45c4d9066f1",
            "value": " 100/100 [00:02&lt;00:00, 33.95ex/s]"
          }
        },
        "907babc81a4944c1ac77c26df400f1a9": {
          "model_module": "@jupyter-widgets/base",
          "model_name": "LayoutModel",
          "model_module_version": "1.2.0",
          "state": {
            "_model_module": "@jupyter-widgets/base",
            "_model_module_version": "1.2.0",
            "_model_name": "LayoutModel",
            "_view_count": null,
            "_view_module": "@jupyter-widgets/base",
            "_view_module_version": "1.2.0",
            "_view_name": "LayoutView",
            "align_content": null,
            "align_items": null,
            "align_self": null,
            "border": null,
            "bottom": null,
            "display": null,
            "flex": null,
            "flex_flow": null,
            "grid_area": null,
            "grid_auto_columns": null,
            "grid_auto_flow": null,
            "grid_auto_rows": null,
            "grid_column": null,
            "grid_gap": null,
            "grid_row": null,
            "grid_template_areas": null,
            "grid_template_columns": null,
            "grid_template_rows": null,
            "height": null,
            "justify_content": null,
            "justify_items": null,
            "left": null,
            "margin": null,
            "max_height": null,
            "max_width": null,
            "min_height": null,
            "min_width": null,
            "object_fit": null,
            "object_position": null,
            "order": null,
            "overflow": null,
            "overflow_x": null,
            "overflow_y": null,
            "padding": null,
            "right": null,
            "top": null,
            "visibility": null,
            "width": null
          }
        },
        "2a34db703ecd4420acf46532df4c7164": {
          "model_module": "@jupyter-widgets/base",
          "model_name": "LayoutModel",
          "model_module_version": "1.2.0",
          "state": {
            "_model_module": "@jupyter-widgets/base",
            "_model_module_version": "1.2.0",
            "_model_name": "LayoutModel",
            "_view_count": null,
            "_view_module": "@jupyter-widgets/base",
            "_view_module_version": "1.2.0",
            "_view_name": "LayoutView",
            "align_content": null,
            "align_items": null,
            "align_self": null,
            "border": null,
            "bottom": null,
            "display": null,
            "flex": null,
            "flex_flow": null,
            "grid_area": null,
            "grid_auto_columns": null,
            "grid_auto_flow": null,
            "grid_auto_rows": null,
            "grid_column": null,
            "grid_gap": null,
            "grid_row": null,
            "grid_template_areas": null,
            "grid_template_columns": null,
            "grid_template_rows": null,
            "height": null,
            "justify_content": null,
            "justify_items": null,
            "left": null,
            "margin": null,
            "max_height": null,
            "max_width": null,
            "min_height": null,
            "min_width": null,
            "object_fit": null,
            "object_position": null,
            "order": null,
            "overflow": null,
            "overflow_x": null,
            "overflow_y": null,
            "padding": null,
            "right": null,
            "top": null,
            "visibility": null,
            "width": null
          }
        },
        "b4e3d93a1f2146e98cf9b81379131ef1": {
          "model_module": "@jupyter-widgets/controls",
          "model_name": "DescriptionStyleModel",
          "model_module_version": "1.5.0",
          "state": {
            "_model_module": "@jupyter-widgets/controls",
            "_model_module_version": "1.5.0",
            "_model_name": "DescriptionStyleModel",
            "_view_count": null,
            "_view_module": "@jupyter-widgets/base",
            "_view_module_version": "1.2.0",
            "_view_name": "StyleView",
            "description_width": ""
          }
        },
        "d8f8beaa649042b9ad0865dfbc99fffa": {
          "model_module": "@jupyter-widgets/base",
          "model_name": "LayoutModel",
          "model_module_version": "1.2.0",
          "state": {
            "_model_module": "@jupyter-widgets/base",
            "_model_module_version": "1.2.0",
            "_model_name": "LayoutModel",
            "_view_count": null,
            "_view_module": "@jupyter-widgets/base",
            "_view_module_version": "1.2.0",
            "_view_name": "LayoutView",
            "align_content": null,
            "align_items": null,
            "align_self": null,
            "border": null,
            "bottom": null,
            "display": null,
            "flex": null,
            "flex_flow": null,
            "grid_area": null,
            "grid_auto_columns": null,
            "grid_auto_flow": null,
            "grid_auto_rows": null,
            "grid_column": null,
            "grid_gap": null,
            "grid_row": null,
            "grid_template_areas": null,
            "grid_template_columns": null,
            "grid_template_rows": null,
            "height": null,
            "justify_content": null,
            "justify_items": null,
            "left": null,
            "margin": null,
            "max_height": null,
            "max_width": null,
            "min_height": null,
            "min_width": null,
            "object_fit": null,
            "object_position": null,
            "order": null,
            "overflow": null,
            "overflow_x": null,
            "overflow_y": null,
            "padding": null,
            "right": null,
            "top": null,
            "visibility": null,
            "width": null
          }
        },
        "03bfd08925ac42a19c0b0d545a861ba0": {
          "model_module": "@jupyter-widgets/controls",
          "model_name": "ProgressStyleModel",
          "model_module_version": "1.5.0",
          "state": {
            "_model_module": "@jupyter-widgets/controls",
            "_model_module_version": "1.5.0",
            "_model_name": "ProgressStyleModel",
            "_view_count": null,
            "_view_module": "@jupyter-widgets/base",
            "_view_module_version": "1.2.0",
            "_view_name": "StyleView",
            "bar_color": null,
            "description_width": ""
          }
        },
        "50ae05013b244e138b12234838555f8b": {
          "model_module": "@jupyter-widgets/base",
          "model_name": "LayoutModel",
          "model_module_version": "1.2.0",
          "state": {
            "_model_module": "@jupyter-widgets/base",
            "_model_module_version": "1.2.0",
            "_model_name": "LayoutModel",
            "_view_count": null,
            "_view_module": "@jupyter-widgets/base",
            "_view_module_version": "1.2.0",
            "_view_name": "LayoutView",
            "align_content": null,
            "align_items": null,
            "align_self": null,
            "border": null,
            "bottom": null,
            "display": null,
            "flex": null,
            "flex_flow": null,
            "grid_area": null,
            "grid_auto_columns": null,
            "grid_auto_flow": null,
            "grid_auto_rows": null,
            "grid_column": null,
            "grid_gap": null,
            "grid_row": null,
            "grid_template_areas": null,
            "grid_template_columns": null,
            "grid_template_rows": null,
            "height": null,
            "justify_content": null,
            "justify_items": null,
            "left": null,
            "margin": null,
            "max_height": null,
            "max_width": null,
            "min_height": null,
            "min_width": null,
            "object_fit": null,
            "object_position": null,
            "order": null,
            "overflow": null,
            "overflow_x": null,
            "overflow_y": null,
            "padding": null,
            "right": null,
            "top": null,
            "visibility": null,
            "width": null
          }
        },
        "29c7cdef85fa46b8894ca45c4d9066f1": {
          "model_module": "@jupyter-widgets/controls",
          "model_name": "DescriptionStyleModel",
          "model_module_version": "1.5.0",
          "state": {
            "_model_module": "@jupyter-widgets/controls",
            "_model_module_version": "1.5.0",
            "_model_name": "DescriptionStyleModel",
            "_view_count": null,
            "_view_module": "@jupyter-widgets/base",
            "_view_module_version": "1.2.0",
            "_view_name": "StyleView",
            "description_width": ""
          }
        },
        "cd7e033d9d8d4ec49520235d326385e1": {
          "model_module": "@jupyter-widgets/controls",
          "model_name": "HBoxModel",
          "model_module_version": "1.5.0",
          "state": {
            "_dom_classes": [],
            "_model_module": "@jupyter-widgets/controls",
            "_model_module_version": "1.5.0",
            "_model_name": "HBoxModel",
            "_view_count": null,
            "_view_module": "@jupyter-widgets/controls",
            "_view_module_version": "1.5.0",
            "_view_name": "HBoxView",
            "box_style": "",
            "children": [
              "IPY_MODEL_f6e89fd93cbb4859ad1a8b4c619d3597",
              "IPY_MODEL_f008f555d0174d58bdc30325c7fc1f01",
              "IPY_MODEL_5a1e7ccac286427180dc02fa84da2752"
            ],
            "layout": "IPY_MODEL_95aa3029e2cb4ec7b242851b753bea5d"
          }
        },
        "f6e89fd93cbb4859ad1a8b4c619d3597": {
          "model_module": "@jupyter-widgets/controls",
          "model_name": "HTMLModel",
          "model_module_version": "1.5.0",
          "state": {
            "_dom_classes": [],
            "_model_module": "@jupyter-widgets/controls",
            "_model_module_version": "1.5.0",
            "_model_name": "HTMLModel",
            "_view_count": null,
            "_view_module": "@jupyter-widgets/controls",
            "_view_module_version": "1.5.0",
            "_view_name": "HTMLView",
            "description": "",
            "description_tooltip": null,
            "layout": "IPY_MODEL_0b85869f5a674889be037c0125bdc7bf",
            "placeholder": "​",
            "style": "IPY_MODEL_9496f1d3b2fa4a529ad2166f01cce9dd",
            "value": "Downloading: 100%"
          }
        },
        "f008f555d0174d58bdc30325c7fc1f01": {
          "model_module": "@jupyter-widgets/controls",
          "model_name": "FloatProgressModel",
          "model_module_version": "1.5.0",
          "state": {
            "_dom_classes": [],
            "_model_module": "@jupyter-widgets/controls",
            "_model_module_version": "1.5.0",
            "_model_name": "FloatProgressModel",
            "_view_count": null,
            "_view_module": "@jupyter-widgets/controls",
            "_view_module_version": "1.5.0",
            "_view_name": "ProgressView",
            "bar_style": "success",
            "description": "",
            "description_tooltip": null,
            "layout": "IPY_MODEL_ec7af2c409bd4a3fbb901fc4e3a4e69e",
            "max": 892146080,
            "min": 0,
            "orientation": "horizontal",
            "style": "IPY_MODEL_4e1c34f63a574c748783749de2f55a72",
            "value": 892146080
          }
        },
        "5a1e7ccac286427180dc02fa84da2752": {
          "model_module": "@jupyter-widgets/controls",
          "model_name": "HTMLModel",
          "model_module_version": "1.5.0",
          "state": {
            "_dom_classes": [],
            "_model_module": "@jupyter-widgets/controls",
            "_model_module_version": "1.5.0",
            "_model_name": "HTMLModel",
            "_view_count": null,
            "_view_module": "@jupyter-widgets/controls",
            "_view_module_version": "1.5.0",
            "_view_name": "HTMLView",
            "description": "",
            "description_tooltip": null,
            "layout": "IPY_MODEL_1bf9a84099e1469c84808bf07cb3a439",
            "placeholder": "​",
            "style": "IPY_MODEL_27786ba3fdfd408c9dfbf726de5d8d80",
            "value": " 892M/892M [00:16&lt;00:00, 56.9MB/s]"
          }
        },
        "95aa3029e2cb4ec7b242851b753bea5d": {
          "model_module": "@jupyter-widgets/base",
          "model_name": "LayoutModel",
          "model_module_version": "1.2.0",
          "state": {
            "_model_module": "@jupyter-widgets/base",
            "_model_module_version": "1.2.0",
            "_model_name": "LayoutModel",
            "_view_count": null,
            "_view_module": "@jupyter-widgets/base",
            "_view_module_version": "1.2.0",
            "_view_name": "LayoutView",
            "align_content": null,
            "align_items": null,
            "align_self": null,
            "border": null,
            "bottom": null,
            "display": null,
            "flex": null,
            "flex_flow": null,
            "grid_area": null,
            "grid_auto_columns": null,
            "grid_auto_flow": null,
            "grid_auto_rows": null,
            "grid_column": null,
            "grid_gap": null,
            "grid_row": null,
            "grid_template_areas": null,
            "grid_template_columns": null,
            "grid_template_rows": null,
            "height": null,
            "justify_content": null,
            "justify_items": null,
            "left": null,
            "margin": null,
            "max_height": null,
            "max_width": null,
            "min_height": null,
            "min_width": null,
            "object_fit": null,
            "object_position": null,
            "order": null,
            "overflow": null,
            "overflow_x": null,
            "overflow_y": null,
            "padding": null,
            "right": null,
            "top": null,
            "visibility": null,
            "width": null
          }
        },
        "0b85869f5a674889be037c0125bdc7bf": {
          "model_module": "@jupyter-widgets/base",
          "model_name": "LayoutModel",
          "model_module_version": "1.2.0",
          "state": {
            "_model_module": "@jupyter-widgets/base",
            "_model_module_version": "1.2.0",
            "_model_name": "LayoutModel",
            "_view_count": null,
            "_view_module": "@jupyter-widgets/base",
            "_view_module_version": "1.2.0",
            "_view_name": "LayoutView",
            "align_content": null,
            "align_items": null,
            "align_self": null,
            "border": null,
            "bottom": null,
            "display": null,
            "flex": null,
            "flex_flow": null,
            "grid_area": null,
            "grid_auto_columns": null,
            "grid_auto_flow": null,
            "grid_auto_rows": null,
            "grid_column": null,
            "grid_gap": null,
            "grid_row": null,
            "grid_template_areas": null,
            "grid_template_columns": null,
            "grid_template_rows": null,
            "height": null,
            "justify_content": null,
            "justify_items": null,
            "left": null,
            "margin": null,
            "max_height": null,
            "max_width": null,
            "min_height": null,
            "min_width": null,
            "object_fit": null,
            "object_position": null,
            "order": null,
            "overflow": null,
            "overflow_x": null,
            "overflow_y": null,
            "padding": null,
            "right": null,
            "top": null,
            "visibility": null,
            "width": null
          }
        },
        "9496f1d3b2fa4a529ad2166f01cce9dd": {
          "model_module": "@jupyter-widgets/controls",
          "model_name": "DescriptionStyleModel",
          "model_module_version": "1.5.0",
          "state": {
            "_model_module": "@jupyter-widgets/controls",
            "_model_module_version": "1.5.0",
            "_model_name": "DescriptionStyleModel",
            "_view_count": null,
            "_view_module": "@jupyter-widgets/base",
            "_view_module_version": "1.2.0",
            "_view_name": "StyleView",
            "description_width": ""
          }
        },
        "ec7af2c409bd4a3fbb901fc4e3a4e69e": {
          "model_module": "@jupyter-widgets/base",
          "model_name": "LayoutModel",
          "model_module_version": "1.2.0",
          "state": {
            "_model_module": "@jupyter-widgets/base",
            "_model_module_version": "1.2.0",
            "_model_name": "LayoutModel",
            "_view_count": null,
            "_view_module": "@jupyter-widgets/base",
            "_view_module_version": "1.2.0",
            "_view_name": "LayoutView",
            "align_content": null,
            "align_items": null,
            "align_self": null,
            "border": null,
            "bottom": null,
            "display": null,
            "flex": null,
            "flex_flow": null,
            "grid_area": null,
            "grid_auto_columns": null,
            "grid_auto_flow": null,
            "grid_auto_rows": null,
            "grid_column": null,
            "grid_gap": null,
            "grid_row": null,
            "grid_template_areas": null,
            "grid_template_columns": null,
            "grid_template_rows": null,
            "height": null,
            "justify_content": null,
            "justify_items": null,
            "left": null,
            "margin": null,
            "max_height": null,
            "max_width": null,
            "min_height": null,
            "min_width": null,
            "object_fit": null,
            "object_position": null,
            "order": null,
            "overflow": null,
            "overflow_x": null,
            "overflow_y": null,
            "padding": null,
            "right": null,
            "top": null,
            "visibility": null,
            "width": null
          }
        },
        "4e1c34f63a574c748783749de2f55a72": {
          "model_module": "@jupyter-widgets/controls",
          "model_name": "ProgressStyleModel",
          "model_module_version": "1.5.0",
          "state": {
            "_model_module": "@jupyter-widgets/controls",
            "_model_module_version": "1.5.0",
            "_model_name": "ProgressStyleModel",
            "_view_count": null,
            "_view_module": "@jupyter-widgets/base",
            "_view_module_version": "1.2.0",
            "_view_name": "StyleView",
            "bar_color": null,
            "description_width": ""
          }
        },
        "1bf9a84099e1469c84808bf07cb3a439": {
          "model_module": "@jupyter-widgets/base",
          "model_name": "LayoutModel",
          "model_module_version": "1.2.0",
          "state": {
            "_model_module": "@jupyter-widgets/base",
            "_model_module_version": "1.2.0",
            "_model_name": "LayoutModel",
            "_view_count": null,
            "_view_module": "@jupyter-widgets/base",
            "_view_module_version": "1.2.0",
            "_view_name": "LayoutView",
            "align_content": null,
            "align_items": null,
            "align_self": null,
            "border": null,
            "bottom": null,
            "display": null,
            "flex": null,
            "flex_flow": null,
            "grid_area": null,
            "grid_auto_columns": null,
            "grid_auto_flow": null,
            "grid_auto_rows": null,
            "grid_column": null,
            "grid_gap": null,
            "grid_row": null,
            "grid_template_areas": null,
            "grid_template_columns": null,
            "grid_template_rows": null,
            "height": null,
            "justify_content": null,
            "justify_items": null,
            "left": null,
            "margin": null,
            "max_height": null,
            "max_width": null,
            "min_height": null,
            "min_width": null,
            "object_fit": null,
            "object_position": null,
            "order": null,
            "overflow": null,
            "overflow_x": null,
            "overflow_y": null,
            "padding": null,
            "right": null,
            "top": null,
            "visibility": null,
            "width": null
          }
        },
        "27786ba3fdfd408c9dfbf726de5d8d80": {
          "model_module": "@jupyter-widgets/controls",
          "model_name": "DescriptionStyleModel",
          "model_module_version": "1.5.0",
          "state": {
            "_model_module": "@jupyter-widgets/controls",
            "_model_module_version": "1.5.0",
            "_model_name": "DescriptionStyleModel",
            "_view_count": null,
            "_view_module": "@jupyter-widgets/base",
            "_view_module_version": "1.2.0",
            "_view_name": "StyleView",
            "description_width": ""
          }
        }
      }
    },
    "gpuClass": "standard"
  },
  "cells": [
    {
      "cell_type": "markdown",
      "metadata": {
        "id": "view-in-github",
        "colab_type": "text"
      },
      "source": [
        "<a href=\"https://colab.research.google.com/github/tomo0530/CS688_Term_Project/blob/main/CS688_Project_Summarizer.ipynb\" target=\"_parent\"><img src=\"https://colab.research.google.com/assets/colab-badge.svg\" alt=\"Open In Colab\"/></a>"
      ]
    },
    {
      "cell_type": "markdown",
      "source": [
        "# Set up"
      ],
      "metadata": {
        "id": "Wg1exWn4OeON"
      }
    },
    {
      "cell_type": "code",
      "source": [
        "!pip install transformers datasets\n",
        "!pip install pysummarization"
      ],
      "metadata": {
        "id": "atiu9NqXUGLD"
      },
      "execution_count": null,
      "outputs": []
    },
    {
      "cell_type": "code",
      "source": [
        "import operator\n",
        "import numpy as np\n",
        "import pandas as pd\n",
        "import matplotlib.pyplot as plt\n",
        "%matplotlib inline\n",
        "from wordcloud import WordCloud\n",
        "from wordcloud import ImageColorGenerator\n",
        "from wordcloud import STOPWORDS\n",
        "import tensorflow as tf\n",
        "\n",
        "import datasets\n",
        "from datasets import Dataset\n",
        "import transformers\n",
        "from transformers import AutoTokenizer\n",
        "from transformers import TFAutoModelForSeq2SeqLM\n",
        "from transformers import DataCollatorForSeq2Seq\n",
        "from transformers import AdamWeightDecay\n",
        "from transformers.keras_callbacks import KerasMetricCallback\n",
        "\n",
        "from pysummarization.nlpbase.auto_abstractor import AutoAbstractor\n",
        "from pysummarization.tokenizabledoc.simple_tokenizer import SimpleTokenizer\n",
        "from pysummarization.abstractabledoc.top_n_rank_abstractor import TopNRankAbstractor"
      ],
      "metadata": {
        "id": "ojSRIN8bYOou"
      },
      "execution_count": null,
      "outputs": []
    },
    {
      "cell_type": "markdown",
      "source": [
        "# Preprocessing"
      ],
      "metadata": {
        "id": "DBO-UFZiOl8G"
      }
    },
    {
      "cell_type": "code",
      "source": [
        "# read the movie json data as pandas dataframe\n",
        "jsonFile = \"https://raw.githubusercontent.com/tomo0530/CS688_Term_Project/main/moviesummary/moviedata.json\"\n",
        "\n",
        "df = pd.read_json(jsonFile)\n",
        "df"
      ],
      "metadata": {
        "id": "UUoaukFvXiia",
        "colab": {
          "base_uri": "https://localhost:8080/",
          "height": 641
        },
        "outputId": "87af3d8c-3b1d-4ea6-cac5-64085202416e"
      },
      "execution_count": null,
      "outputs": [
        {
          "output_type": "execute_result",
          "data": {
            "text/plain": [
              "                                     title  \\\n",
              "0      The Adventures of Robin Hood (1938)   \n",
              "1                 The African Queen (1951)   \n",
              "2                     All About Eve (1950)   \n",
              "3    All Quiet On The Western Front (1930)   \n",
              "4              An American In Paris (1951)   \n",
              "..                                     ...   \n",
              "95  Who's Afraid of Virginia Woolf? (1966)   \n",
              "96                   The Wild Bunch (1969)   \n",
              "97                 The Wizard of Oz (1939)   \n",
              "98                Wuthering Heights (1939)   \n",
              "99              Yankee Doodle Dandy (1942)   \n",
              "\n",
              "                                              summary  \\\n",
              "0   This 1938 swashbuckling costume epic stars Err...   \n",
              "1   Humphrey Bogart and Katharine Hepburn's odd-co...   \n",
              "2   This acerbic Oscar-sweeping drama stars Bette ...   \n",
              "3   Lewis Milestone's hugely popular adaptation of...   \n",
              "4   One of the greatest musicals of the fifties, t...   \n",
              "..                                                ...   \n",
              "95  Mike Nichols' directorial debut stars Elizabet...   \n",
              "96  This controversial 1969 Western was one of the...   \n",
              "97  Victor Fleming's timeless 1939 musical boasts ...   \n",
              "98  Laurence Olivier brings Emily Bronte's Heathcl...   \n",
              "99  James Cagney and Walter Huston star in this 19...   \n",
              "\n",
              "                                             starring  \\\n",
              "0   Errol Flynn, Olivia de Havilland, Basil Rathbo...   \n",
              "1   Humphrey Bogart, Katharine Hepburn, Robert Morley   \n",
              "2   Bette Davis, Anne Baxter, George Sanders, Cele...   \n",
              "3                            Lew Ayres, Louis Wolheim   \n",
              "4   Gene Kelly, Leslie Caron, Nina Foch, Georges G...   \n",
              "..                                                ...   \n",
              "95  Elizabeth Taylor, Richard Burton, George Segal...   \n",
              "96  William Holden, Ernest Borgnine, Warren Oates,...   \n",
              "97  Judy Garland, Ray Bolger, Jack Haley, Bert Lah...   \n",
              "98  Merle Oberon, Laurence Olivier, David Niven, G...   \n",
              "99  James Cagney, Joan Leslie, Walter Huston, Rose...   \n",
              "\n",
              "                            director  \\\n",
              "0   Michael Curtiz, William Keighley   \n",
              "1                        John Huston   \n",
              "2               Joseph L. Mankiewicz   \n",
              "3                    Lewis Milestone   \n",
              "4                  Vincente Minnelli   \n",
              "..                               ...   \n",
              "95                      Mike Nichols   \n",
              "96                     Sam Peckinpah   \n",
              "97                    Victor Fleming   \n",
              "98                     William Wyler   \n",
              "99                    Michael Curtiz   \n",
              "\n",
              "                                              content  \n",
              "0   Arguably Flynn's greatest role, this is the cl...  \n",
              "1   Based on the 1935 novel by C.S. Forester, the ...  \n",
              "2   Much-loved, lengthy, acerbic drama of theatre ...  \n",
              "3   Based on Erich Maria Remarque's timeless, paci...  \n",
              "4   One of the great 50s screen musicals, colorful...  \n",
              "..                                                ...  \n",
              "95  Nichols' debut film as director - of an adapta...  \n",
              "96  A controversial, brutally-violent, late 60s We...  \n",
              "97  The ultimate fantasy, the perennial musical ad...  \n",
              "98  The greatest melodramatic, brooding screen ada...  \n",
              "99  The rousing, morale-boosting, flag-waving musi...  \n",
              "\n",
              "[100 rows x 5 columns]"
            ],
            "text/html": [
              "\n",
              "  <div id=\"df-e567d3c3-8a71-4dfd-9e1d-81781c64e19b\">\n",
              "    <div class=\"colab-df-container\">\n",
              "      <div>\n",
              "<style scoped>\n",
              "    .dataframe tbody tr th:only-of-type {\n",
              "        vertical-align: middle;\n",
              "    }\n",
              "\n",
              "    .dataframe tbody tr th {\n",
              "        vertical-align: top;\n",
              "    }\n",
              "\n",
              "    .dataframe thead th {\n",
              "        text-align: right;\n",
              "    }\n",
              "</style>\n",
              "<table border=\"1\" class=\"dataframe\">\n",
              "  <thead>\n",
              "    <tr style=\"text-align: right;\">\n",
              "      <th></th>\n",
              "      <th>title</th>\n",
              "      <th>summary</th>\n",
              "      <th>starring</th>\n",
              "      <th>director</th>\n",
              "      <th>content</th>\n",
              "    </tr>\n",
              "  </thead>\n",
              "  <tbody>\n",
              "    <tr>\n",
              "      <th>0</th>\n",
              "      <td>The Adventures of Robin Hood (1938)</td>\n",
              "      <td>This 1938 swashbuckling costume epic stars Err...</td>\n",
              "      <td>Errol Flynn, Olivia de Havilland, Basil Rathbo...</td>\n",
              "      <td>Michael Curtiz, William Keighley</td>\n",
              "      <td>Arguably Flynn's greatest role, this is the cl...</td>\n",
              "    </tr>\n",
              "    <tr>\n",
              "      <th>1</th>\n",
              "      <td>The African Queen (1951)</td>\n",
              "      <td>Humphrey Bogart and Katharine Hepburn's odd-co...</td>\n",
              "      <td>Humphrey Bogart, Katharine Hepburn, Robert Morley</td>\n",
              "      <td>John Huston</td>\n",
              "      <td>Based on the 1935 novel by C.S. Forester, the ...</td>\n",
              "    </tr>\n",
              "    <tr>\n",
              "      <th>2</th>\n",
              "      <td>All About Eve (1950)</td>\n",
              "      <td>This acerbic Oscar-sweeping drama stars Bette ...</td>\n",
              "      <td>Bette Davis, Anne Baxter, George Sanders, Cele...</td>\n",
              "      <td>Joseph L. Mankiewicz</td>\n",
              "      <td>Much-loved, lengthy, acerbic drama of theatre ...</td>\n",
              "    </tr>\n",
              "    <tr>\n",
              "      <th>3</th>\n",
              "      <td>All Quiet On The Western Front (1930)</td>\n",
              "      <td>Lewis Milestone's hugely popular adaptation of...</td>\n",
              "      <td>Lew Ayres, Louis Wolheim</td>\n",
              "      <td>Lewis Milestone</td>\n",
              "      <td>Based on Erich Maria Remarque's timeless, paci...</td>\n",
              "    </tr>\n",
              "    <tr>\n",
              "      <th>4</th>\n",
              "      <td>An American In Paris (1951)</td>\n",
              "      <td>One of the greatest musicals of the fifties, t...</td>\n",
              "      <td>Gene Kelly, Leslie Caron, Nina Foch, Georges G...</td>\n",
              "      <td>Vincente Minnelli</td>\n",
              "      <td>One of the great 50s screen musicals, colorful...</td>\n",
              "    </tr>\n",
              "    <tr>\n",
              "      <th>...</th>\n",
              "      <td>...</td>\n",
              "      <td>...</td>\n",
              "      <td>...</td>\n",
              "      <td>...</td>\n",
              "      <td>...</td>\n",
              "    </tr>\n",
              "    <tr>\n",
              "      <th>95</th>\n",
              "      <td>Who's Afraid of Virginia Woolf? (1966)</td>\n",
              "      <td>Mike Nichols' directorial debut stars Elizabet...</td>\n",
              "      <td>Elizabeth Taylor, Richard Burton, George Segal...</td>\n",
              "      <td>Mike Nichols</td>\n",
              "      <td>Nichols' debut film as director - of an adapta...</td>\n",
              "    </tr>\n",
              "    <tr>\n",
              "      <th>96</th>\n",
              "      <td>The Wild Bunch (1969)</td>\n",
              "      <td>This controversial 1969 Western was one of the...</td>\n",
              "      <td>William Holden, Ernest Borgnine, Warren Oates,...</td>\n",
              "      <td>Sam Peckinpah</td>\n",
              "      <td>A controversial, brutally-violent, late 60s We...</td>\n",
              "    </tr>\n",
              "    <tr>\n",
              "      <th>97</th>\n",
              "      <td>The Wizard of Oz (1939)</td>\n",
              "      <td>Victor Fleming's timeless 1939 musical boasts ...</td>\n",
              "      <td>Judy Garland, Ray Bolger, Jack Haley, Bert Lah...</td>\n",
              "      <td>Victor Fleming</td>\n",
              "      <td>The ultimate fantasy, the perennial musical ad...</td>\n",
              "    </tr>\n",
              "    <tr>\n",
              "      <th>98</th>\n",
              "      <td>Wuthering Heights (1939)</td>\n",
              "      <td>Laurence Olivier brings Emily Bronte's Heathcl...</td>\n",
              "      <td>Merle Oberon, Laurence Olivier, David Niven, G...</td>\n",
              "      <td>William Wyler</td>\n",
              "      <td>The greatest melodramatic, brooding screen ada...</td>\n",
              "    </tr>\n",
              "    <tr>\n",
              "      <th>99</th>\n",
              "      <td>Yankee Doodle Dandy (1942)</td>\n",
              "      <td>James Cagney and Walter Huston star in this 19...</td>\n",
              "      <td>James Cagney, Joan Leslie, Walter Huston, Rose...</td>\n",
              "      <td>Michael Curtiz</td>\n",
              "      <td>The rousing, morale-boosting, flag-waving musi...</td>\n",
              "    </tr>\n",
              "  </tbody>\n",
              "</table>\n",
              "<p>100 rows × 5 columns</p>\n",
              "</div>\n",
              "      <button class=\"colab-df-convert\" onclick=\"convertToInteractive('df-e567d3c3-8a71-4dfd-9e1d-81781c64e19b')\"\n",
              "              title=\"Convert this dataframe to an interactive table.\"\n",
              "              style=\"display:none;\">\n",
              "        \n",
              "  <svg xmlns=\"http://www.w3.org/2000/svg\" height=\"24px\"viewBox=\"0 0 24 24\"\n",
              "       width=\"24px\">\n",
              "    <path d=\"M0 0h24v24H0V0z\" fill=\"none\"/>\n",
              "    <path d=\"M18.56 5.44l.94 2.06.94-2.06 2.06-.94-2.06-.94-.94-2.06-.94 2.06-2.06.94zm-11 1L8.5 8.5l.94-2.06 2.06-.94-2.06-.94L8.5 2.5l-.94 2.06-2.06.94zm10 10l.94 2.06.94-2.06 2.06-.94-2.06-.94-.94-2.06-.94 2.06-2.06.94z\"/><path d=\"M17.41 7.96l-1.37-1.37c-.4-.4-.92-.59-1.43-.59-.52 0-1.04.2-1.43.59L10.3 9.45l-7.72 7.72c-.78.78-.78 2.05 0 2.83L4 21.41c.39.39.9.59 1.41.59.51 0 1.02-.2 1.41-.59l7.78-7.78 2.81-2.81c.8-.78.8-2.07 0-2.86zM5.41 20L4 18.59l7.72-7.72 1.47 1.35L5.41 20z\"/>\n",
              "  </svg>\n",
              "      </button>\n",
              "      \n",
              "  <style>\n",
              "    .colab-df-container {\n",
              "      display:flex;\n",
              "      flex-wrap:wrap;\n",
              "      gap: 12px;\n",
              "    }\n",
              "\n",
              "    .colab-df-convert {\n",
              "      background-color: #E8F0FE;\n",
              "      border: none;\n",
              "      border-radius: 50%;\n",
              "      cursor: pointer;\n",
              "      display: none;\n",
              "      fill: #1967D2;\n",
              "      height: 32px;\n",
              "      padding: 0 0 0 0;\n",
              "      width: 32px;\n",
              "    }\n",
              "\n",
              "    .colab-df-convert:hover {\n",
              "      background-color: #E2EBFA;\n",
              "      box-shadow: 0px 1px 2px rgba(60, 64, 67, 0.3), 0px 1px 3px 1px rgba(60, 64, 67, 0.15);\n",
              "      fill: #174EA6;\n",
              "    }\n",
              "\n",
              "    [theme=dark] .colab-df-convert {\n",
              "      background-color: #3B4455;\n",
              "      fill: #D2E3FC;\n",
              "    }\n",
              "\n",
              "    [theme=dark] .colab-df-convert:hover {\n",
              "      background-color: #434B5C;\n",
              "      box-shadow: 0px 1px 3px 1px rgba(0, 0, 0, 0.15);\n",
              "      filter: drop-shadow(0px 1px 2px rgba(0, 0, 0, 0.3));\n",
              "      fill: #FFFFFF;\n",
              "    }\n",
              "  </style>\n",
              "\n",
              "      <script>\n",
              "        const buttonEl =\n",
              "          document.querySelector('#df-e567d3c3-8a71-4dfd-9e1d-81781c64e19b button.colab-df-convert');\n",
              "        buttonEl.style.display =\n",
              "          google.colab.kernel.accessAllowed ? 'block' : 'none';\n",
              "\n",
              "        async function convertToInteractive(key) {\n",
              "          const element = document.querySelector('#df-e567d3c3-8a71-4dfd-9e1d-81781c64e19b');\n",
              "          const dataTable =\n",
              "            await google.colab.kernel.invokeFunction('convertToInteractive',\n",
              "                                                     [key], {});\n",
              "          if (!dataTable) return;\n",
              "\n",
              "          const docLinkHtml = 'Like what you see? Visit the ' +\n",
              "            '<a target=\"_blank\" href=https://colab.research.google.com/notebooks/data_table.ipynb>data table notebook</a>'\n",
              "            + ' to learn more about interactive tables.';\n",
              "          element.innerHTML = '';\n",
              "          dataTable['output_type'] = 'display_data';\n",
              "          await google.colab.output.renderOutput(dataTable, element);\n",
              "          const docLink = document.createElement('div');\n",
              "          docLink.innerHTML = docLinkHtml;\n",
              "          element.appendChild(docLink);\n",
              "        }\n",
              "      </script>\n",
              "    </div>\n",
              "  </div>\n",
              "  "
            ]
          },
          "metadata": {},
          "execution_count": 59
        }
      ]
    },
    {
      "cell_type": "code",
      "source": [
        "# concat title, director, starring and content\n",
        "df['document'] = ('The title is ' + df['title'] + '. The director is ' + df['director'] + '. The starrings are ' + df['starring'] + '. ' + df['content'])\n",
        "df['document'][0]"
      ],
      "metadata": {
        "id": "AQtpfTiCYtbA",
        "colab": {
          "base_uri": "https://localhost:8080/",
          "height": 123
        },
        "outputId": "4d466598-5138-473c-fcfb-d7b10fcc1cac"
      },
      "execution_count": null,
      "outputs": [
        {
          "output_type": "execute_result",
          "data": {
            "text/plain": [
              "'The title is The Adventures of Robin Hood (1938). The director is Michael Curtiz, William Keighley. The starrings are Errol Flynn, Olivia de Havilland, Basil Rathbone, Claude Rains, Melville Cooper, Ian Hunter. Arguably Flynn\\'s greatest role, this is the classic, swashbuckling, adventure, costume epic/spectacle about the infamous rebel outlaw and his band of merry men from Sherwood Forest who \"robbed from the rich and gave to the poor.\" The charming Robin Hood (Flynn) fights for justice against the evil Sir Guy of Gisbourne (Rathbone), the villainous Sheriff of Nottingham (Cooper), and the scheming Prince John (Rains), while striving to win the hand of the beautiful Maid Marian (de Havilland) - and to save the English throne for King Richard (Hunter). This good-natured, extravagant adventure epic still packs romance, comedy, great sword play action, music, colorful characters and storybook fantasy. One of the earliest films to be shot in three-color Technicolor and, at the time, the most expensive film Warner Bros. had produced ($2 million). William Keighley started directing the film, but Curtiz finished the filming. Academy Award Nominations: 4, including Best Picture. Academy Awards: 3, including Best Interior Decoration, Best Original Score, Best Film Editing.'"
            ],
            "application/vnd.google.colaboratory.intrinsic+json": {
              "type": "string"
            }
          },
          "metadata": {},
          "execution_count": 60
        }
      ]
    },
    {
      "cell_type": "code",
      "source": [
        "# Wordcloud of Summary\n",
        "text = \" \".join(i for i in df['summary'])\n",
        "stopwords = set(STOPWORDS)\n",
        "wordcloud = WordCloud(stopwords=stopwords, background_color=\"white\").generate(text)\n",
        "plt.figure( figsize=(15,10))\n",
        "plt.imshow(wordcloud, interpolation='bilinear')\n",
        "plt.axis(\"off\")\n",
        "plt.show()"
      ],
      "metadata": {
        "colab": {
          "base_uri": "https://localhost:8080/",
          "height": 449
        },
        "id": "IfBKTCpgo02Q",
        "outputId": "5b9ac1ee-2cdf-480a-adc3-f7e74d1ee78c"
      },
      "execution_count": null,
      "outputs": [
        {
          "output_type": "display_data",
          "data": {
            "text/plain": [
              "<Figure size 1080x720 with 1 Axes>"
            ],
            "image/png": "[encoded data removed]"
          },
          "metadata": {
            "needs_background": "light"
          }
        }
      ]
    },
    {
      "cell_type": "markdown",
      "source": [
        "# Fine tuning of T5 model"
      ],
      "metadata": {
        "id": "oL2hvUoVSUZ7"
      }
    },
    {
      "cell_type": "code",
      "source": [
        "# set the model architecture\n",
        "model_checkpoint = \"t5-base\"\n",
        "\n",
        "# get a tokenizer that corresponds to the model\n",
        "tokenizer = AutoTokenizer.from_pretrained(model_checkpoint)"
      ],
      "metadata": {
        "id": "uvCHX_4dYtTS",
        "colab": {
          "base_uri": "https://localhost:8080/",
          "height": 237,
          "referenced_widgets": [
            "b6b1dd086a204035b0d0df7d18d4fddf",
            "5b9f8ce5fc7c4bdaab068bede6e5b39b",
            "d1eacc328e7847d6bf627a7db95028ca",
            "c7eb07c3b4a94608ae22bf3baf5a31fd",
            "2db9b37e9c89489da5abec59cf9d25c2",
            "17f031bdbf1c4f028c686f711281c23a",
            "e055068b1b9144698eeca06140b70c43",
            "011e86ccfebe489a8cd93a999d16a89c",
            "5519928dfee34e57a99ad661b964c1e0",
            "24ec3082570b4843a154957e530fe7b0",
            "71901148bedc4b50841b91352cfe4922",
            "05844c5f1c2441f5827e15ed9f66b237",
            "38b959e744474ff191cdddb36bf10b25",
            "bf46b44e474e4f519d0a3a622307b826",
            "98101fef91d44adb8ab32c448cab6a12",
            "b1ada77969484cd69bde47b4279e727a",
            "eabe79cee08e4572bd3f46a58b2d1301",
            "eb0efcca772f4948ab95b4f3f2c97509",
            "8d012cc88c654acb8bb77aa40ab7f24a",
            "1d927df68107411796884cedfa6d29e4",
            "7716bf94eeba4856b3055327bdde7f7f",
            "ec359d0cf48e4ac3806076a92a1a71f9",
            "10af38179ae94f8fb3ed9785fc6f7e88",
            "f3d42ccc6c11458ea214004cbfef5d23",
            "1e07d821af944aecbbe50551bca0c9a6",
            "dad17b99dd2b4739883be729a2ec5b0d",
            "1931cb11df634ee89ef8e0e66fad6b90",
            "6a0002ac8f924e2c8db33340ce7a832e",
            "d624335f82994d788159c05e119bb1b3",
            "b87125976aa949fdb8c1a01b26f76628",
            "8e8dc01429e34281a60739d6aceeb72f",
            "b8ee0557a6b249228ce040fd86e40a65",
            "49137f06b0124d9cb12a876fe3372fdf"
          ]
        },
        "outputId": "4d690f28-eff0-4b6b-b8ea-7d398e2690d7"
      },
      "execution_count": null,
      "outputs": [
        {
          "output_type": "display_data",
          "data": {
            "text/plain": [
              "Downloading:   0%|          | 0.00/1.20k [00:00<?, ?B/s]"
            ],
            "application/vnd.jupyter.widget-view+json": {
              "version_major": 2,
              "version_minor": 0,
              "model_id": "b6b1dd086a204035b0d0df7d18d4fddf"
            }
          },
          "metadata": {}
        },
        {
          "output_type": "display_data",
          "data": {
            "text/plain": [
              "Downloading:   0%|          | 0.00/792k [00:00<?, ?B/s]"
            ],
            "application/vnd.jupyter.widget-view+json": {
              "version_major": 2,
              "version_minor": 0,
              "model_id": "05844c5f1c2441f5827e15ed9f66b237"
            }
          },
          "metadata": {}
        },
        {
          "output_type": "display_data",
          "data": {
            "text/plain": [
              "Downloading:   0%|          | 0.00/1.39M [00:00<?, ?B/s]"
            ],
            "application/vnd.jupyter.widget-view+json": {
              "version_major": 2,
              "version_minor": 0,
              "model_id": "10af38179ae94f8fb3ed9785fc6f7e88"
            }
          },
          "metadata": {}
        },
        {
          "output_type": "stream",
          "name": "stderr",
          "text": [
            "/usr/local/lib/python3.7/dist-packages/transformers/models/t5/tokenization_t5_fast.py:166: FutureWarning: This tokenizer was incorrectly instantiated with a model max length of 512 which will be corrected in Transformers v5.\n",
            "For now, this behavior is kept to avoid breaking backwards compatibility when padding/encoding with `truncation is True`.\n",
            "- Be aware that you SHOULD NOT rely on t5-base automatically truncating your input to 512 when padding/encoding.\n",
            "- If you want to encode/pad to sequences longer than 512 you can either instantiate this tokenizer with `model_max_length` or pass `max_length` when encoding/padding.\n",
            "- To avoid this warning, please instantiate this tokenizer with `model_max_length` set to your preferred value.\n",
            "  FutureWarning,\n"
          ]
        }
      ]
    },
    {
      "cell_type": "code",
      "source": [
        "# set the maximum length accepted by the model\n",
        "max_input_length = 1024\n",
        "max_target_length = 128\n",
        "prefix = \"summarize: \"\n",
        "\n",
        "\n",
        "def preprocess_function(examples):\n",
        "  \"\"\"Returns a list of lists for each key by the tokenizer\"\"\"\n",
        "  inputs = [prefix + doc for doc in examples[\"document\"]]\n",
        "  model_inputs = tokenizer(inputs, max_length=max_input_length, truncation=True)\n",
        "\n",
        "  with tokenizer.as_target_tokenizer():\n",
        "      model_inputs = tokenizer(examples[\"summary\"], max_length=max_target_length, truncation=True)\n",
        "\n",
        "  model_inputs[\"labels\"] = model_inputs[\"input_ids\"]\n",
        "  return model_inputs"
      ],
      "metadata": {
        "id": "WYEDMUfOG7YK"
      },
      "execution_count": null,
      "outputs": []
    },
    {
      "cell_type": "code",
      "source": [
        "# convert pandas dataframe into Hugging Face Hub's Dataset\n",
        "dataset = Dataset.from_pandas(df[['document', 'summary']])\n",
        "\n",
        "# apply the function on the Dataset\n",
        "tokenized_dataset =dataset.map(preprocess_function)"
      ],
      "metadata": {
        "colab": {
          "base_uri": "https://localhost:8080/",
          "height": 104,
          "referenced_widgets": [
            "09172a816a4642ae8250e25b87d584ff",
            "b6c8ad7c7262469a9a12a0b974522f79",
            "f6f52c750e664a8795971d9a4c666fae",
            "6d9df80372c848d3850e70d644ba2be3",
            "907babc81a4944c1ac77c26df400f1a9",
            "2a34db703ecd4420acf46532df4c7164",
            "b4e3d93a1f2146e98cf9b81379131ef1",
            "d8f8beaa649042b9ad0865dfbc99fffa",
            "03bfd08925ac42a19c0b0d545a861ba0",
            "50ae05013b244e138b12234838555f8b",
            "29c7cdef85fa46b8894ca45c4d9066f1"
          ]
        },
        "id": "Pwe4hgC14_8L",
        "outputId": "67f3d6bf-50f8-4865-997a-76d2bb0ba905"
      },
      "execution_count": null,
      "outputs": [
        {
          "output_type": "display_data",
          "data": {
            "text/plain": [
              "  0%|          | 0/100 [00:00<?, ?ex/s]"
            ],
            "application/vnd.jupyter.widget-view+json": {
              "version_major": 2,
              "version_minor": 0,
              "model_id": "09172a816a4642ae8250e25b87d584ff"
            }
          },
          "metadata": {}
        },
        {
          "output_type": "stream",
          "name": "stderr",
          "text": [
            "/usr/local/lib/python3.7/dist-packages/transformers/tokenization_utils_base.py:3543: UserWarning: `as_target_tokenizer` is deprecated and will be removed in v5 of Transformers. You can tokenize your labels by using the argument `text_target` of the regular `__call__` method (either in the same call as your input texts if you use the same keyword arguments, or in a separate call.\n",
            "  \"`as_target_tokenizer` is deprecated and will be removed in v5 of Transformers. You can tokenize your \"\n"
          ]
        }
      ]
    },
    {
      "cell_type": "code",
      "source": [
        "# set the initial value\n",
        "batch_size = 10\n",
        "learning_rate = 0.0001\n",
        "weight_decay = 0.01"
      ],
      "metadata": {
        "id": "ziNDakaxS2f5"
      },
      "execution_count": null,
      "outputs": []
    },
    {
      "cell_type": "code",
      "source": [
        "# load a pretrained model\n",
        "model = TFAutoModelForSeq2SeqLM.from_pretrained(model_checkpoint)\n",
        "\n",
        "# initialize the optimizer \n",
        "optimizer = AdamWeightDecay(learning_rate=learning_rate, weight_decay_rate=weight_decay)\n",
        "\n",
        "# compile the model\n",
        "model.compile(optimizer=optimizer)"
      ],
      "metadata": {
        "id": "OQ6XG3zIYtQB",
        "colab": {
          "base_uri": "https://localhost:8080/",
          "height": 156,
          "referenced_widgets": [
            "cd7e033d9d8d4ec49520235d326385e1",
            "f6e89fd93cbb4859ad1a8b4c619d3597",
            "f008f555d0174d58bdc30325c7fc1f01",
            "5a1e7ccac286427180dc02fa84da2752",
            "95aa3029e2cb4ec7b242851b753bea5d",
            "0b85869f5a674889be037c0125bdc7bf",
            "9496f1d3b2fa4a529ad2166f01cce9dd",
            "ec7af2c409bd4a3fbb901fc4e3a4e69e",
            "4e1c34f63a574c748783749de2f55a72",
            "1bf9a84099e1469c84808bf07cb3a439",
            "27786ba3fdfd408c9dfbf726de5d8d80"
          ]
        },
        "outputId": "7fb1a17d-f83b-4a12-e30d-14e74564dc1f"
      },
      "execution_count": null,
      "outputs": [
        {
          "output_type": "display_data",
          "data": {
            "text/plain": [
              "Downloading:   0%|          | 0.00/892M [00:00<?, ?B/s]"
            ],
            "application/vnd.jupyter.widget-view+json": {
              "version_major": 2,
              "version_minor": 0,
              "model_id": "cd7e033d9d8d4ec49520235d326385e1"
            }
          },
          "metadata": {}
        },
        {
          "output_type": "stream",
          "name": "stderr",
          "text": [
            "All model checkpoint layers were used when initializing TFT5ForConditionalGeneration.\n",
            "\n",
            "All the layers of TFT5ForConditionalGeneration were initialized from the model checkpoint at t5-base.\n",
            "If your task is similar to the task the model of the checkpoint was trained on, you can already use TFT5ForConditionalGeneration for predictions without further training.\n",
            "No loss specified in compile() - the model's internal loss computation will be used as the loss. Don't panic - this is a common way to train TensorFlow models in Transformers! To disable this behaviour please pass a loss argument, or explicitly pass `loss=None` if you do not want your model to compute a loss.\n"
          ]
        }
      ]
    },
    {
      "cell_type": "code",
      "source": [
        "# initialize data collator, which will not only pad the inputs to the maximum \n",
        "# length in the batch, but also the labels\n",
        "data_collator = DataCollatorForSeq2Seq(tokenizer, model=model, return_tensors=\"tf\")\n",
        "\n",
        "# convert the Dataset into tf.data.Dataset\n",
        "train_dataset = model.prepare_tf_dataset(\n",
        "    tokenized_dataset,\n",
        "    batch_size=batch_size,\n",
        "    shuffle=True,\n",
        "    collate_fn=data_collator,\n",
        ")"
      ],
      "metadata": {
        "id": "B8AcgmBJYtNw"
      },
      "execution_count": null,
      "outputs": []
    },
    {
      "cell_type": "code",
      "source": [
        "# train the model\n",
        "model.fit(train_dataset, epochs=10)"
      ],
      "metadata": {
        "id": "zaUnroTxYtJx",
        "colab": {
          "base_uri": "https://localhost:8080/"
        },
        "outputId": "a0d896f3-2a9b-4d8b-d948-1abfc6de98cd"
      },
      "execution_count": null,
      "outputs": [
        {
          "output_type": "stream",
          "name": "stdout",
          "text": [
            "Epoch 1/10\n",
            "10/10 [==============================] - 46s 272ms/step - loss: 0.1778\n",
            "Epoch 2/10\n",
            "10/10 [==============================] - 3s 281ms/step - loss: 0.0224\n",
            "Epoch 3/10\n",
            "10/10 [==============================] - 3s 273ms/step - loss: 0.0061\n",
            "Epoch 4/10\n",
            "10/10 [==============================] - 3s 274ms/step - loss: 0.0049\n",
            "Epoch 5/10\n",
            "10/10 [==============================] - 3s 275ms/step - loss: 0.0038\n",
            "Epoch 6/10\n",
            "10/10 [==============================] - 3s 277ms/step - loss: 0.0037\n",
            "Epoch 7/10\n",
            "10/10 [==============================] - 3s 279ms/step - loss: 0.0026\n",
            "Epoch 8/10\n",
            "10/10 [==============================] - 3s 279ms/step - loss: 0.0103\n",
            "Epoch 9/10\n",
            "10/10 [==============================] - 3s 285ms/step - loss: 0.0020\n",
            "Epoch 10/10\n",
            "10/10 [==============================] - 3s 282ms/step - loss: 0.0024\n"
          ]
        },
        {
          "output_type": "execute_result",
          "data": {
            "text/plain": [
              "<keras.callbacks.History at 0x7fe170265c50>"
            ]
          },
          "metadata": {},
          "execution_count": 11
        }
      ]
    },
    {
      "cell_type": "markdown",
      "source": [
        "# Inference"
      ],
      "metadata": {
        "id": "2tXXFQMqUdB_"
      }
    },
    {
      "cell_type": "code",
      "source": [
        "def concat_document(title, director, starring, content):\n",
        "  \"\"\"Concats movie's title, director, starring and content\"\"\"\n",
        "  return 'summarize: The title is ' + title + '. The director is ' + director + '. The starrings are ' + starring + '. ' + content"
      ],
      "metadata": {
        "id": "AEmBRgd-Z_pB"
      },
      "execution_count": null,
      "outputs": []
    },
    {
      "cell_type": "code",
      "source": [
        "# Example 1: Star Wars (1977)\n",
        "title1 = 'Star Wars (1977)'\n",
        "director1 = 'George Lucas'\n",
        "starring1 = 'Harrison Ford, Mark Hamill, James Earl Jones, Alec Guinness, Carrie Fisher, Peter Cushing'\n",
        "content1 = 'The first of a trilogy of fantasy films by writer/director George Lucas, and one of the most financially-successful films of all time, with amazing technological effects. A sci-fi adventure saga \"in a galaxy far, far away\", quasi-Western film, about a galactic battle between good (the rebel forces) and evil (the Imperial Galactic Empire). The characters are proto-typical: a young farmboy hero Luke Skywalker (Hamill) on a desert planet, a villainous, black-garbed sinister Lord Darth Vader (voice of Jones) - an aide to the leader of the Empire Grand Moff Tarkin (Cushing), a wise Jedi knight Obi-Wan Kenobi (Guinness), a daring starship pilot (Ford), a captured rebel Princess Leia Organa (Fisher), a furry Wookie and two robotic droids. With two sequels, The Empire Strikes Back and Return of the Jedi. Academy Award Nominations: 10, including Best Picture, Best Supporting Actor--Alec Guinness, Best Director, and Best Screenplay. Academy Awards: 6, including Best Sound, Best Original Score, Best Film Editing, Best Costume Design, Best Art Direction/Set Decoration, Best Visual Effects. A Special Achievement Award for \"creation of the alien, creature, and robot voices.\"'\n",
        "document1 = concat_document(title1, director1, starring1, content1)"
      ],
      "metadata": {
        "id": "eJ1rUGqUZ_lX"
      },
      "execution_count": null,
      "outputs": []
    },
    {
      "cell_type": "code",
      "source": [
        "# predict and print the summary\n",
        "tokenized1 = tokenizer([document1], return_tensors='np')\n",
        "out1 = model.generate(**tokenized1, max_length=128)\n",
        "\n",
        "with tokenizer.as_target_tokenizer():\n",
        "    print(tokenizer.decode(out1[0]))"
      ],
      "metadata": {
        "colab": {
          "base_uri": "https://localhost:8080/"
        },
        "id": "c8WN9dRmZ_jP",
        "outputId": "c169a0a6-db6d-4d57-b7a9-18908e081106"
      },
      "execution_count": null,
      "outputs": [
        {
          "output_type": "stream",
          "name": "stdout",
          "text": [
            "<pad> \"in a galaxy far, far away\", quasi-Western film, about a galactic battle between good (the rebel forces) and evil (the Imperial Galactic Empire).</s>\n"
          ]
        }
      ]
    },
    {
      "cell_type": "code",
      "source": [
        "# Example 2: Titanic (1997)\n",
        "title2 = 'Titanic (1997)'\n",
        "director2 = 'James Cameron'\n",
        "starring2 = 'Leonardo DiCaprio, Kate Winslet, Billy Zane, Kathy Bates, Bill Paxton, Gloria Stuart, Frances Fisher'\n",
        "content2 = \"Writer/director James Cameron's three-plus hour, epic mega-blockbuster with the most expensive budget of any film up to its time, and extravagant visual and digital effects. Its story centered around an infamous part of history (the fateful night of April 15, 1912 for White Star Line's R.M.S. Titanic) with a doomed, fictional romance at its core. It begins with treasure-seekers in a salvage expedition at the submerged ship led by Brock Lovett (Paxton), who discover a safebox with a drawing of a woman wearing a 56-carat blue diamond necklace. They connect it to 102 year-old survivor Rose Dawson Calvert (Stuart) who revisits the site of the sinking, and reminisces, in flashback, about an ill-fated, forbidden romance she had when she was a seventeen year-old society girl. with lower-class, starving artist Jack Dawson (DiCaprio). Earlier a debutante named Rose DeWitt Bukater (Winslet), she had been forced by her mother Ruth (Fisher) to become engaged to rich, arrogant socialite Cal Hockley (Zane) and was on her way to Philadelphia to marry. Feeling hopelessly trapped, she tried to commit suicide from the aft deck rather than accept the arranged marriage, but was rescued by Jack. Although Jack was slighted by her upper-class family, she forsook her future with Cal and asked Jack to sketch her in the nude wearing the invaluable blue diamond, and they fell in love. When the ship hit the iceberg in the frigid North Atlantic and split in two, Jack sacrificed himself and again saved her from sure death. The characters of Rose and Jack and their romance wisely dominate the film, although there are some secondary subplots. Fans (mostly female) returned many dozens of times to enjoy the tale over and over and helped the film become the highest grossing motion picture of all time. Although praised by critics and the viewing public, there was some backlash about its acting (especially DiCaprio's) and its screenplay - Titanic became the first Best Picture winner to not have a Best Screenplay nomination since The Sound of Music (1965). Academy Award Nominations: 14, including Best Actress--Kate Winslet, Best Supporting Actress--Gloria Stuart, Best Makeup. Academy Awards: 11, including Best Picture, Best Director--James Cameron, Best Cinematography--Russell Carpenter, Best Costume Design, Best Art Direction-Set Decoration, Best Film Editing, Best Original Score--James Horner, Best Original Song--'My Heart Will Go On,' Best Visual Effects, Best Sound Editing, Best Sound Effects Editing.\"\n",
        "document2 = concat_document(title2, director2, starring2, content2)"
      ],
      "metadata": {
        "id": "_P0pn1w8DAaG"
      },
      "execution_count": null,
      "outputs": []
    },
    {
      "cell_type": "code",
      "source": [
        "tokenized2 = tokenizer([document2], return_tensors='np')\n",
        "out2 = model.generate(**tokenized2, max_length=128)\n",
        "\n",
        "with tokenizer.as_target_tokenizer():\n",
        "    print(tokenizer.decode(out2[0]))"
      ],
      "metadata": {
        "colab": {
          "base_uri": "https://localhost:8080/"
        },
        "id": "UKuANRpkK5dt",
        "outputId": "11d3b2d9-fd73-482c-d3ca-ec31704cc188"
      },
      "execution_count": null,
      "outputs": [
        {
          "output_type": "stream",
          "name": "stderr",
          "text": [
            "Token indices sequence length is longer than the specified maximum sequence length for this model (693 > 512). Running this sequence through the model will result in indexing errors\n"
          ]
        },
        {
          "output_type": "stream",
          "name": "stdout",
          "text": [
            "<pad> the three-plus hour, epic mega-blockbuster with the most expensive budget of any film up to its time, and extravagant visual and digital effects.</s>\n"
          ]
        }
      ]
    },
    {
      "cell_type": "markdown",
      "source": [
        "# Pysummarization"
      ],
      "metadata": {
        "id": "di6tYd-qlkDD"
      }
    },
    {
      "cell_type": "code",
      "source": [
        "# Object of automatic summarization\n",
        "auto_abstractor = AutoAbstractor()\n",
        "# Set tokenizer\n",
        "auto_abstractor.tokenizable_doc = SimpleTokenizer()\n",
        "# Set delimiter for making a list of sentence\n",
        "auto_abstractor.delimiter_list = [\".\", \"\\n\"]\n",
        "# Object of abstracting and filtering document\n",
        "abstractable_doc = TopNRankAbstractor()"
      ],
      "metadata": {
        "id": "0QkaYrDXWGu9"
      },
      "execution_count": null,
      "outputs": []
    },
    {
      "cell_type": "code",
      "source": [
        "# Example 1: Star Wars (1977)\n",
        "# Summarize document1\n",
        "result_dict1 = auto_abstractor.summarize(document1, abstractable_doc)\n",
        "# Display only the most critical line from the summary\n",
        "top_row1 = result_dict1[\"scoring_data\"].index(max(result_dict1[\"scoring_data\"], key=operator.itemgetter(1)))\n",
        "print(result_dict1[\"summarize_result\"][top_row1])"
      ],
      "metadata": {
        "colab": {
          "base_uri": "https://localhost:8080/"
        },
        "id": "wQPPvrPUWXtR",
        "outputId": "d041e9fe-a2ee-45b9-f825-9bf24547805d"
      },
      "execution_count": null,
      "outputs": [
        {
          "output_type": "stream",
          "name": "stdout",
          "text": [
            " The characters are proto-typical: a young farmboy hero Luke Skywalker (Hamill) on a desert planet, a villainous, black-garbed sinister Lord Darth Vader (voice of Jones) - an aide to the leader of the Empire Grand Moff Tarkin (Cushing), a wise Jedi knight Obi-Wan Kenobi (Guinness), a daring starship pilot (Ford), a captured rebel Princess Leia Organa (Fisher), a furry Wookie and two robotic droids.\n",
            "\n"
          ]
        }
      ]
    },
    {
      "cell_type": "code",
      "source": [
        "# Example 2: Titanic (1997)\n",
        "result_dict2 = auto_abstractor.summarize(document2, abstractable_doc)\n",
        "top_row2 = result_dict2[\"scoring_data\"].index(max(result_dict2[\"scoring_data\"], key=operator.itemgetter(1)))\n",
        "print(result_dict2[\"summarize_result\"][top_row2])"
      ],
      "metadata": {
        "colab": {
          "base_uri": "https://localhost:8080/"
        },
        "id": "TkarmlrIlAqv",
        "outputId": "b8161f58-96f7-423a-f1ca-5ea66ad4ad4a"
      },
      "execution_count": null,
      "outputs": [
        {
          "output_type": "stream",
          "name": "stdout",
          "text": [
            " It begins with treasure-seekers in a salvage expedition at the submerged ship led by Brock Lovett (Paxton), who discover a safebox with a drawing of a woman wearing a 56-carat blue diamond necklace.\n",
            "\n"
          ]
        }
      ]
    }
  ]
}